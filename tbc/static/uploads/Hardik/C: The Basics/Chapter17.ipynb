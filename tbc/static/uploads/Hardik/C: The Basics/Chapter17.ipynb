{
 "metadata": {
  "name": "Chapter_17"
 }, 
 "nbformat": 2, 
 "worksheets": [
  {
   "cells": [
    {
     "cell_type": "markdown", 
     "source": [
      "<h1>Chapter 17: Voltage Regulators<h1>"
     ]
    }, 
    {
     "cell_type": "markdown", 
     "source": [
      "<h3>Example 17.1, Page Number:552 <h3>"
     ]
    }, 
    {
     "cell_type": "code", 
     "collapsed": false, 
     "input": [
      "%pylab inline"
     ], 
     "language": "python", 
     "outputs": [
      {
       "output_type": "stream", 
       "stream": "stdout", 
       "text": [
        "", 
        "Welcome to pylab, a matplotlib-based Python environment [backend: module://IPython.zmq.pylab.backend_inline].", 
        "For more information, type 'help(pylab)'."
       ]
      }
     ], 
     "prompt_number": 1
    }, 
    {
     "cell_type": "code", 
     "collapsed": false, 
     "input": [
      "'''Percentage line regulation'''", 
      "", 
      "#variable declaration", 
      "Del_V_out=0.25;", 
      "V_out=15;", 
      "Del_V_in=5;    #All voltages in Volts", 
      "", 
      "#Calculations", 
      "line_regulation=((Del_V_out/V_out)/Del_V_in)*100;", 
      "", 
      "#Result", 
      "print('line regulation in %%V is %f' %line_regulation)"
     ], 
     "language": "python", 
     "outputs": [
      {
       "output_type": "stream", 
       "stream": "stdout", 
       "text": [
        "line regulation in %V is 0.333333"
       ]
      }
     ], 
     "prompt_number": 2
    }, 
    {
     "cell_type": "markdown", 
     "source": [
      "<h3>Example 17.2, Page Number: 553<h3>"
     ]
    }, 
    {
     "cell_type": "code", 
     "collapsed": false, 
     "input": [
      "''' Load regulation percentage'''", 
      "", 
      "# Variable Declaration", 
      "V_NL=12.0;    #No load output voltage in Volts", 
      "V_FL=11.9;  #Full load output voltage in Volts", 
      "I_F=10.0;     #Full load current in milli-Amperes", 
      "", 
      "#Calculations", 
      "load_regulation=((V_NL-V_FL)/V_FL)*100;", 
      "load_reg=load_regulation/I_F;", 
      "", 
      "#Result", 
      "print('load regulation as percentage change from no load to full load = %f'%load_regulation)", 
      "print('\\nload regulation as percentage change per milliampere = %f' %load_reg)"
     ], 
     "language": "python", 
     "outputs": [
      {
       "output_type": "stream", 
       "stream": "stdout", 
       "text": [
        "load regulation as percentage change from no load to full load = 0.840336", 
        "", 
        "load regulation as percentage change per milliampere = 0.084034"
       ]
      }
     ], 
     "prompt_number": 3
    }, 
    {
     "cell_type": "markdown", 
     "source": [
      "<h3>Example 17.3, Page Number: 556<h3>"
     ]
    }, 
    {
     "cell_type": "code", 
     "collapsed": false, 
     "input": [
      "'''Series regulator'''", 
      "", 
      "", 
      "V_REF=5.1    #Zener voltage in volts", 
      "R2=10*10**3;", 
      "R3=10*10**3; #resistances in ohm", 
      "V_out=(1+(R2/R3))*V_REF;", 
      "print('output voltage in volts = %.1f'%V_out)"
     ], 
     "language": "python", 
     "outputs": [
      {
       "output_type": "stream", 
       "stream": "stdout", 
       "text": [
        "output voltage in volts = 10.2"
       ]
      }
     ], 
     "prompt_number": 4
    }, 
    {
     "cell_type": "markdown", 
     "source": [
      "<h3>Example 17.4, Page Number: 557<h3>"
     ]
    }, 
    {
     "cell_type": "code", 
     "collapsed": false, 
     "input": [
      "'''Overload protection'''", 
      "", 
      "R4=1;    #Resistance in Ohms", 
      "I_L_max=0.7/R4;", 
      "print('maximum current provided to load(in amperes) = %.1f'%I_L_max)"
     ], 
     "language": "python", 
     "outputs": [
      {
       "output_type": "stream", 
       "stream": "stdout", 
       "text": [
        "maximum current provided to load(in amperes) = 0.7"
       ]
      }
     ], 
     "prompt_number": 5
    }, 
    {
     "cell_type": "markdown", 
     "source": [
      "<h3>Example 17.5, Page Number: 560<h3>"
     ]
    }, 
    {
     "cell_type": "code", 
     "collapsed": false, 
     "input": [
      "'''Shunt regulator'''", 
      "", 
      "V_IN=12.5;    #maximum input voltage in volts", 
      "R1=22;    #In Ohms", 
      "#Worst case of power dissipation is when V_OUT=0V", 
      "V_OUT=0;", 
      "V_R1=V_IN-V_OUT;   #Voltage across R1", 
      "P_R1=(V_R1*V_R1)/R1;    #maximum power dissipated by R1", 
      "print('maximum power dissipated by R1 in WATTS = %f'%P_R1)"
     ], 
     "language": "python", 
     "outputs": [
      {
       "output_type": "stream", 
       "stream": "stdout", 
       "text": [
        "maximum power dissipated by R1 in WATTS = 7.102273"
       ]
      }
     ], 
     "prompt_number": 6
    }, 
    {
     "cell_type": "markdown", 
     "source": [
      "<h3>Example 17.6, Page Number: 569<h3>"
     ]
    }, 
    {
     "cell_type": "code", 
     "collapsed": false, 
     "input": [
      "'''Positive linear voltage regulator'''", 
      "", 
      "print('SAME AS EX-2.8 in CHAPTER-2')"
     ], 
     "language": "python", 
     "outputs": [
      {
       "output_type": "stream", 
       "stream": "stdout", 
       "text": [
        "SAME AS EX-2.8 in CHAPTER-2"
       ]
      }
     ], 
     "prompt_number": 7
    }, 
    {
     "cell_type": "markdown", 
     "source": [
      "<h3>Example 17.7, Page Number: 572<h3>"
     ]
    }, 
    {
     "cell_type": "code", 
     "collapsed": false, 
     "input": [
      "'''External pass Filter'''", 
      "", 
      "I_max=700*10**-3;    #in Amperes", 
      "R_ext=0.7/I_max;", 
      "print('value of resistor in Ohms for which max current is 700mA = %f'%R_ext)"
     ], 
     "language": "python", 
     "outputs": [
      {
       "output_type": "stream", 
       "stream": "stdout", 
       "text": [
        "value of resistor in Ohms for which max current is 700mA = 1.000000"
       ]
      }
     ], 
     "prompt_number": 8
    }, 
    {
     "cell_type": "markdown", 
     "source": [
      "<h3>Example 17.8, Page Number: 572<h3>"
     ]
    }, 
    {
     "cell_type": "code", 
     "collapsed": false, 
     "input": [
      "'''Power rating 7824'''", 
      "", 
      "V_OUT=24.0;    #Output voltage in Volts", 
      "R_L=10.0;    #Load resistance in Ohms", 
      "V_IN=30.0;    #Input voltage in Volts", 
      "I_max=700.0*10**-3;   #maximum interal current in Amperes", 
      "I_L=V_OUT/R_L;    #load current in amperes", 
      "I_ext=I_L-I_max;    #current through the external pass transistor in Amperes", 
      "P_ext_Qext=I_ext*(V_IN-V_OUT);    #power dissipated", 
      "print('power dissiated(in WATTS) by the external pass transistor = %.1f'%P_ext_Qext)", 
      "print('\\nFor safety purpose, we choose a power transistor with rating more than this, say 15W')"
     ], 
     "language": "python", 
     "outputs": [
      {
       "output_type": "stream", 
       "stream": "stdout", 
       "text": [
        "power dissiated(in WATTS) by the external pass transistor = 10.2", 
        "", 
        "For safety purpose, we choose a power transistor with rating more than this, say 15W"
       ]
      }
     ], 
     "prompt_number": 9
    }, 
    {
     "cell_type": "markdown", 
     "source": [
      "<h3>Example 17.9, Page Number: 574<h3>"
     ]
    }, 
    {
     "cell_type": "code", 
     "collapsed": false, 
     "input": [
      "'''Current regulator'''", 
      "", 
      "V_out=5.0;    #7805 gives output voltage of 5V", 
      "I_L=1.0;    #constant current of 1A", 
      "R1=V_out/I_L;", 
      "print('The value of current-setting resistor in ohms = %d'%R1)"
     ], 
     "language": "python", 
     "outputs": [
      {
       "output_type": "stream", 
       "stream": "stdout", 
       "text": [
        "The value of current-setting resistor in ohms = 5"
       ]
      }
     ], 
     "prompt_number": 10
    }
   ]
  }
 ]
}